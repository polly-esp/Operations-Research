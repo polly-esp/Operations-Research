{
 "cells": [
  {
   "cell_type": "markdown",
   "metadata": {},
   "source": [
    "# Optimization of Radiation Therapy Intensity\n",
    "\n",
    "One way to treat cancer is **radiation therapy**,which involves using an external beam treatment machine to pass ionizing radiation through the patient’s body, damaging both cancerous and healthy tissues. Normally, several beams are precisely administered from different angles in a two-dimensional plane. Due to attenuation, each beam delivers more radiation to the tissue near the entry point than to the tissue near the exit point. Scatter also causes some delivery of radiation to tissue outside the direct path of the beam.\n",
    "\n",
    "Since tumor cells are typically microscopically interspersed among healthy cells, the radiation dosage throughout the tumor region must be large enough to kill the malignant cells. At the same time, the aggregate dose to critical tissues must not exceed established tolerance levels, in order to prevent complications that can be more serious than the disease itself. For the same reason, the total dose to the entire healthy anatomy must be minimized.\n",
    "\n",
    "### Objective\n",
    "\n",
    "The goal of this design is to select the intensity of each beam to generate the best possible dose distribution. (The dose strength at any point in the body is measured in units called **kilorads**.) Once the treatment design has been developed, it is administered in multiple installments, spread over several weeks.\n",
    "\n",
    "### Model and Constraints\n",
    "\n",
    "For any proposed beam of given intensity, analyzing the resulting radiation absorption by various parts of the body requires a complex process. In brief, based on careful anatomical analysis, the energy distribution within the two-dimensional cross section of the tissue can be plotted on an **isodose map**, where the contour lines represent the dose strength as a percentage of the dose strength at the entry point. A fine grid is then placed over the isodose map. By summing the radiation absorbed in the squares containing each type of tissue, the average dose that is absorbed by the tumor, healthy anatomy, and critical tissues can be calculated.\n",
    "\n",
    "After thorough analysis, the medical team has carefully estimated the data needed, summarized as follows. The first column lists the areas of the body that must be considered, and then the next two columns give the fraction of the radiation dose at the entry point for each beam that is absorbed by the respective areas on average. For example, if the dose level at the entry point for beam 1 is 1 kilorad, then an average of 0.4 kilorad will be absorbed by the entire healthy anatomy in the two-dimensional plane, an average of 0.3 kilorad will be absorbed by nearby critical tissues, an average of 0.5 kilorad will be absorbed by various parts of the tumor, and 0.6 kilorad will be absorbed by the center of the tumor. \n",
    "\n",
    "The last column provides dosage restrictions for each area of the body:\n",
    "\n",
    "- The average dosage absorption for the healthy anatomy must be as small as possible.\n",
    "- The critical tissues must not exceed 2.7 kilorads.\n",
    "- The average over the entire tumor must equal 6 kilorads.\n",
    "- The center of the tumor must be at least 6 kilorads.\n",
    "\n",
    "### Mathematical Model\n",
    "\n",
    "Let $x_1$ and $x_2$ represent the intensities of beams 1 and 2, respectively, measured in kilorads. The mathematical optimization model can be structured as follows:\n",
    "\n",
    "**Objective Function (Minimize radiation absorbed by healthy tissues):**\n",
    "$$\\text{Minimize } 0.4 x_1 + 0.5 x_2$$\n",
    "\n",
    "**Subject to the following constraints:**\n",
    "\n",
    "1. **Critical Tissues:**\n",
    "   $$0.3 x_1 + 0.1 x_2 \\leq 2.7$$\n",
    "\n",
    "2. **Entire Tumor Region:**\n",
    "   $$0.5 x_1 + 0.5 x_2 = 6$$\n",
    "\n",
    "3. **Center of Tumor:**\n",
    "   $$0.6 x_1 + 0.4 x_2 \\geq 6$$\n",
    "   \n",
    "4. **Non-negativity constraints:**\n",
    "   $$x_1 \\geq 0, \\quad x_2 \\geq 0 $$\n",
    "\n",
    "   \n",
    "This model aims to determine the optimal intensity levels of the two beams such that the absorbed dose by healthy tissues is minimized, while meeting all constraints for critical tissues, the tumor region, and the tumor center.\n"
   ]
  },
  {
   "cell_type": "code",
   "execution_count": null,
   "metadata": {},
   "outputs": [],
   "source": [
    "!pip install pyomo\n",
    "!conda install -c conda-forge pyomo coincbc -y"
   ]
  },
  {
   "cell_type": "code",
   "execution_count": 8,
   "metadata": {},
   "outputs": [
    {
     "name": "stdout",
     "output_type": "stream",
     "text": [
      "Optimal intensity for Beam 1 (x1): 7.5\n",
      "Optimal intensity for Beam 2 (x2): 4.5\n",
      "Minimum dose to healthy tissue: 5.25\n"
     ]
    }
   ],
   "source": [
    "import os\n",
    "from pyomo.environ import ConcreteModel, Var, Objective, Constraint, SolverFactory, NonNegativeReals\n",
    "\n",
    "os.environ[\"PATH\"] += \":/Users/polina.esipenko/anaconda3/bin\"\n",
    "\n",
    "model = ConcreteModel()\n",
    "\n",
    "model.x1 = Var(domain=NonNegativeReals)\n",
    "model.x2 = Var(domain=NonNegativeReals)\n",
    "\n",
    "model.objective = Objective(expr=0.4 * model.x1 + 0.5 * model.x2, sense=1)  # sense=1 == mimimization\n",
    "\n",
    "\"\"\" Adding Constraints \"\"\"\n",
    "# Critical Tissues Constraint\n",
    "model.critical_tissues = Constraint(expr=0.3 * model.x1 + 0.1 * model.x2 <= 2.7)\n",
    "\n",
    "# Tumour Region Constraint\n",
    "model.tumor_region = Constraint(expr=0.5 * model.x1 + 0.5 * model.x2 == 6)\n",
    "\n",
    "# Center of Tumour Constraint\n",
    "model.center_tumor = Constraint(expr=0.6 * model.x1 + 0.4 * model.x2 >= 6)\n",
    "\n",
    "# Choosing Solver\n",
    "solver = SolverFactory('cbc')\n",
    "result = solver.solve(model)\n",
    "\n",
    "print(\"Optimal intensity for Beam 1 (x1):\", model.x1.value)\n",
    "print(\"Optimal intensity for Beam 2 (x2):\", model.x2.value)\n",
    "print(\"Minimum dose to healthy tissue:\", model.objective.expr())\n"
   ]
  },
  {
   "cell_type": "code",
   "execution_count": null,
   "metadata": {},
   "outputs": [],
   "source": []
  }
 ],
 "metadata": {
  "kernelspec": {
   "display_name": "Python 3 (ipykernel)",
   "language": "python",
   "name": "python3"
  },
  "language_info": {
   "codemirror_mode": {
    "name": "ipython",
    "version": 3
   },
   "file_extension": ".py",
   "mimetype": "text/x-python",
   "name": "python",
   "nbconvert_exporter": "python",
   "pygments_lexer": "ipython3",
   "version": "3.12.2"
  }
 },
 "nbformat": 4,
 "nbformat_minor": 4
}
