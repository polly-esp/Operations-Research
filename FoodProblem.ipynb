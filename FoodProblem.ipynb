{
 "cells": [
  {
   "cell_type": "code",
   "execution_count": 1,
   "id": "32701672-9e92-4151-ad43-8aef0dc418d6",
   "metadata": {
    "ExecuteTime": {
     "end_time": "2023-10-29T22:43:36.134515Z",
     "start_time": "2023-10-29T22:43:35.621800Z"
    }
   },
   "outputs": [],
   "source": [
    "from pyomo.environ import *\n",
    "import pandas as pd\n",
    "import matplotlib.pyplot as plt"
   ]
  },
  {
   "cell_type": "code",
   "execution_count": 2,
   "outputs": [],
   "source": [
    "ingredients = pd.read_excel(\"Data Set Feedcalculator.xlsx\", sheet_name=\"Ingredient Database\")\n",
    "ingredient_rules = pd.read_excel(\"Data Set Feedcalculator.xlsx\", sheet_name=\"Ingredient Rules\")\n",
    "nutrient_rules = pd.read_excel(\"Data Set Feedcalculator.xlsx\", sheet_name=\"Nutrient Rules\")"
   ],
   "metadata": {
    "collapsed": false,
    "ExecuteTime": {
     "end_time": "2023-10-29T22:43:36.229094Z",
     "start_time": "2023-10-29T22:43:36.134907Z"
    }
   },
   "id": "ee585f053af50261"
  },
  {
   "cell_type": "code",
   "execution_count": 3,
   "outputs": [],
   "source": [
    "available_ingredients = ingredients[ingredients.Availability][\n",
    "    ['Name', 'Reference name', 'Price'] + list(nutrient_rules.Nutrient)].set_index('Reference name')"
   ],
   "metadata": {
    "collapsed": false,
    "ExecuteTime": {
     "end_time": "2023-10-29T22:43:36.234201Z",
     "start_time": "2023-10-29T22:43:36.228963Z"
    }
   },
   "id": "1591c0dd55d60f82"
  },
  {
   "cell_type": "code",
   "execution_count": 4,
   "outputs": [],
   "source": [
    "# Extracting bounds for easier access\n",
    "nutrient_bounds = {nut: (lb if not pd.isna(lb) else 0,\n",
    "                         ub if not pd.isna(ub) else None) \n",
    "                   for nut, lb, ub in\n",
    "                   zip(nutrient_rules.Nutrient, nutrient_rules['Lower Bound'], nutrient_rules['Upper Bound'])\n",
    "                   }\n",
    "# I made some adjustments to the given code. Firstly I extract all unavailable ingredients from the bounds dic\n",
    "ingredient_bounds = {\n",
    "    ing: (lb if not pd.isna(lb) else 0,\n",
    "          ub if not pd.isna(ub) else None)\n",
    "    for ing, lb, ub in zip(ingredient_rules.Ingredient, ingredient_rules['Lower Bound'], ingredient_rules['Upper Bound'])\n",
    "    if ing in available_ingredients.index\n",
    "}\n",
    "# Then I add the remaining available ingredients with the bounds (0, None)\n",
    "for ing in available_ingredients.index:\n",
    "    if ing not in ingredient_bounds:\n",
    "        ingredient_bounds[ing] = (0, None)\n",
    "\n",
    "\n",
    "combined_ingredient_rules = []\n",
    "set_of_available_ingredients = set(available_ingredients.index)\n",
    "for c in ['Unnamed: ' + str(i) for i in range(5, 13)]:\n",
    "    aux = ingredient_rules[[c]].dropna().values\n",
    "    aux = [v[0] for v in aux]\n",
    "    upperbound = aux[0]\n",
    "    ingredients_in_rule = set(aux[1:]).intersection(set_of_available_ingredients)\n",
    "    if ingredients_in_rule:\n",
    "        combined_ingredient_rules.append((upperbound, ingredients_in_rule))"
   ],
   "metadata": {
    "collapsed": false,
    "ExecuteTime": {
     "end_time": "2023-10-29T22:43:36.239727Z",
     "start_time": "2023-10-29T22:43:36.237072Z"
    }
   },
   "id": "aace0048b9670bcc"
  },
  {
   "cell_type": "markdown",
   "source": [
    "1.1 Linear model\n",
    "Consider the same model as in Lecture 8 and extend it to include the ‘combined ingredient rules’ that \n",
    "you see extracted in the the companion notebook. These rules stipulate upper bounds for several combinations \n",
    "of ingredients. For example, the first combined ingredient rule specifies that the total sum of cotton, \n",
    "sunflower, gncake and copra may not exceed 0.17 (17%) of the total feed mix. Note that some ingredients \n",
    "are specified as “unavailable”, such ingredients can be discarded from our model. Thus the first rule \n",
    "combination can be reduced to the sum amount of cotton and sunflower."
   ],
   "metadata": {
    "collapsed": false
   },
   "id": "ea5bc1be78ad917a"
  },
  {
   "cell_type": "code",
   "execution_count": 5,
   "outputs": [
    {
     "name": "stdout",
     "output_type": "stream",
     "text": [
      "Minimal cost: 0.2697643893800598\n"
     ]
    }
   ],
   "source": [
    "# 1.1\n",
    "# Initializing the model\n",
    "model = ConcreteModel()\n",
    "# Sets\n",
    "model.I = Set(initialize=ingredient_bounds.keys())\n",
    "model.N = Set(initialize=nutrient_bounds.keys())\n",
    "# x- the variable which shows the quantity of ingredient i to be used\n",
    "model.x = Var(model.I, within=NonNegativeReals)  # Quantity of ingredient i to be used\n",
    "# The objective is to minimize the cost\n",
    "model.cost = Objective(expr=sum(model.x[i] * available_ingredients.loc[i, 'Price'] for i in model.I), sense=minimize)\n",
    "# Nutrients constraint\n",
    "def nutrient_bounds_rule(model, n):\n",
    "    return nutrient_bounds[n][0], sum(model.x[i] * available_ingredients.loc[i, n] for i in model.I),  nutrient_bounds[n][1]\n",
    "\n",
    "model.nutrient_constr = Constraint(model.N, rule=nutrient_bounds_rule)\n",
    "# Ingredients constraint\n",
    "def ingredient_bounds_rule(model, i):\n",
    "    return ingredient_bounds[i][0], model.x[i], ingredient_bounds[i][1]\n",
    "\n",
    "model.ingredient_constr = Constraint(model.I, rule=ingredient_bounds_rule)\n",
    "# Combined ingredients constraint\n",
    "def combined_ingredients_rule(model, rule_idx):\n",
    "    upper_bound, ingredients_combination = combined_ingredient_rules[rule_idx]\n",
    "    return sum(model.x[i] for i in ingredients_combination) <= upper_bound\n",
    "\n",
    "model.combined_ingredients_constr = Constraint(range(len(combined_ingredient_rules)), rule=combined_ingredients_rule)\n",
    "# Constraint to ensure that the total sum equals 1 or 100%\n",
    "def total_mix_rule(model):\n",
    "    return sum(model.x[i] for i in model.I) == 1\n",
    "\n",
    "model.total_mix_constr = Constraint(rule=total_mix_rule)\n",
    "#Solving the model (I wanted to use cbc, but it wasn't installing on my device :/)\n",
    "solver = SolverFactory('glpk',executable=\"/opt/homebrew/bin/./glpsol\")\n",
    "solver.solve(model)\n",
    "\n",
    "print(\"Minimal cost:\", model.cost())"
   ],
   "metadata": {
    "collapsed": false,
    "ExecuteTime": {
     "end_time": "2023-10-29T22:43:36.264604Z",
     "start_time": "2023-10-29T22:43:36.239559Z"
    }
   },
   "id": "1c268d40a7e37ed1"
  },
  {
   "cell_type": "markdown",
   "source": [
    "1.2 Minimize the number of ingredients used\n",
    "The model you created in 1.1 is linear, with non-negative real valued variables. Extend this model\n",
    " by adding a binary variable that states for each ingredient whether it is included in the mix. \n",
    " Alter the model to minimize the number of ingredients used in the mix, while satisfying all \n",
    " requirements, and find the minimal number of ingredients needed. This would be a reasonable \n",
    " approach in the case that the farmer needs to import each ingredient from a different supplier."
   ],
   "metadata": {
    "collapsed": false
   },
   "id": "b58c97b85f08a2a9"
  },
  {
   "cell_type": "code",
   "execution_count": 6,
   "outputs": [
    {
     "name": "stdout",
     "output_type": "stream",
     "text": [
      "Minimal number of ingredients: 5.0\n"
     ]
    }
   ],
   "source": [
    "# 1.2\n",
    "# I use the same constraints while changing the objective and adding a binary variable\n",
    "model = ConcreteModel()\n",
    "model.I = Set(initialize=ingredient_bounds.keys())\n",
    "model.N = Set(initialize=nutrient_bounds.keys())\n",
    "\n",
    "model.x = Var(model.I, within=NonNegativeReals)\n",
    "# y- the binary variable, y=0 - not included, y=1 - included\n",
    "model.y = Var(model.I, within=Binary) \n",
    "# New objective - minimize sum of y\n",
    "model.min_ingredients = Objective(expr=sum(model.y[i] for i in model.I), sense=minimize)\n",
    "\n",
    "def nutrient_bounds_rule(model, n):\n",
    "    return (nutrient_bounds[n][0], \n",
    "            sum(model.x[i] * available_ingredients.loc[i, n] for i in model.I),\n",
    "            nutrient_bounds[n][1])\n",
    "\n",
    "model.nutrient_constr = Constraint(model.N, rule=nutrient_bounds_rule)\n",
    "\n",
    "def ingredient_bounds_rule(model, i):\n",
    "    return ingredient_bounds[i][0], model.x[i], ingredient_bounds[i][1]\n",
    "\n",
    "model.ingredient_constr = Constraint(model.I, rule=ingredient_bounds_rule)\n",
    "\n",
    "def combined_ingredients_rule(model, rule_idx):\n",
    "    upper_bound, ingredients_combination = combined_ingredient_rules[rule_idx]\n",
    "    return sum(model.x[i] for i in ingredients_combination) <= upper_bound\n",
    "\n",
    "model.combined_ingredients_constr = Constraint(range(len(combined_ingredient_rules)),\n",
    "                                               rule=combined_ingredients_rule)\n",
    "# I add a constraint which links x and y\n",
    "def link_binary_to_quantity_rule(model, i):\n",
    "    return model.x[i] <= model.y[i]\n",
    "\n",
    "model.link_binary_constr = Constraint(model.I, rule=link_binary_to_quantity_rule)\n",
    "\n",
    "def total_mix_rule(model):\n",
    "    return sum(model.x[i] for i in model.I) == 1\n",
    "\n",
    "model.total_mix_constr = Constraint(rule=total_mix_rule)\n",
    "\n",
    "solver = SolverFactory('glpk',executable=\"/opt/homebrew/bin/./glpsol\")\n",
    "solver.solve(model)\n",
    "\n",
    "print(\"Minimal number of ingredients:\", model.min_ingredients())"
   ],
   "metadata": {
    "collapsed": false,
    "ExecuteTime": {
     "end_time": "2023-10-29T22:43:36.287809Z",
     "start_time": "2023-10-29T22:43:36.270673Z"
    }
   },
   "id": "f1b51e3dd3487ba"
  },
  {
   "cell_type": "markdown",
   "source": [
    "1.3 Minimum cost for the minimum number of ingredients\n",
    "Now knowing the minimal number of ingredients necessary to satisfy the requirements, \n",
    "we want to minimize the cost while using the minimal number of ingredients in the mix.\n",
    " Add the number found in 1.2 as a mutable parameter to your model. Determine the mix \n",
    " with the lowest cost for that number of ingredients. Note that the ingredients used \n",
    " in the lowest cost solution may not be the same (albeit in the same number) as the \n",
    " ingredients found in 1.2."
   ],
   "metadata": {
    "collapsed": false
   },
   "id": "e1b8c0d8aea1110d"
  },
  {
   "cell_type": "code",
   "execution_count": 7,
   "outputs": [
    {
     "name": "stdout",
     "output_type": "stream",
     "text": [
      "Minimal cost for a mix of 5 ingredients: 0.34182282508784073\n"
     ]
    }
   ],
   "source": [
    "# 1.3\n",
    "# I can use the model from 1.2 and add a new constraint which locks the amount of ingredients used \n",
    "# Also revert the objective back to the one in 1.1\n",
    "model = ConcreteModel()\n",
    "model.I = Set(initialize=ingredient_bounds.keys()) \n",
    "model.N = Set(initialize=nutrient_bounds.keys())\n",
    "\n",
    "model.x = Var(model.I, within=NonNegativeReals) \n",
    "model.y = Var(model.I, within=Binary) \n",
    "\n",
    "model.cost = Objective(expr=sum(model.x[i] * available_ingredients.loc[i, 'Price'] for i in model.I), sense=minimize)\n",
    "\n",
    "def nutrient_bounds_rule(model, n):\n",
    "    return (nutrient_bounds[n][0], \n",
    "            sum(model.x[i] * available_ingredients.loc[i, n] for i in model.I),\n",
    "            nutrient_bounds[n][1])\n",
    "\n",
    "model.nutrient_constr = Constraint(model.N, rule=nutrient_bounds_rule)\n",
    "\n",
    "def ingredient_bounds_rule(model, i):\n",
    "    return (ingredient_bounds[i][0], model.x[i], ingredient_bounds[i][1])\n",
    "\n",
    "model.ingredient_constr = Constraint(model.I, rule=ingredient_bounds_rule)\n",
    "\n",
    "def combined_ingredients_rule(model, rule_idx):\n",
    "    upper_bound, ingredients_in_rule = combined_ingredient_rules[rule_idx]\n",
    "    return sum(model.x[i] for i in ingredients_in_rule) <= upper_bound\n",
    "\n",
    "model.combined_ingredients_constr = Constraint(range(len(combined_ingredient_rules)),\n",
    "                                               rule=combined_ingredients_rule)\n",
    "\n",
    "def link_binary_to_quantity_rule(model, i):\n",
    "    return model.x[i] <= model.y[i]\n",
    "\n",
    "model.link_binary_constr = Constraint(model.I, rule=link_binary_to_quantity_rule)\n",
    "\n",
    "def total_mix_rule(model):\n",
    "    return sum(model.x[i] for i in model.I) == 1\n",
    "\n",
    "model.total_mix_constr = Constraint(rule=total_mix_rule)\n",
    "# Constraint to lock the amount of ingredients to minimum we got in 1.2 \n",
    "def number_of_ingredients_rule(model):\n",
    "    return sum(model.y[i] for i in model.I) == 5\n",
    "\n",
    "model.exact_ingredients_constr = Constraint(rule=number_of_ingredients_rule)\n",
    "\n",
    "solver = SolverFactory('glpk',executable=\"/opt/homebrew/bin/./glpsol\")\n",
    "solver.solve(model)\n",
    "\n",
    "print(\"Minimal cost for a mix of 5 ingredients:\", model.cost())\n"
   ],
   "metadata": {
    "collapsed": false,
    "ExecuteTime": {
     "end_time": "2023-10-29T22:43:36.309985Z",
     "start_time": "2023-10-29T22:43:36.292211Z"
    }
   },
   "id": "e0cfae630fb0a6cb"
  },
  {
   "cell_type": "markdown",
   "source": [
    "1.4 Navigating the trade-off\n",
    "You must have noticed that the two previous objectives (minimum cost and \n",
    "minimum number of ingredients used) do not agree. After solving for two \n",
    "contradictory objectives, you are now asked to suggest a good trade-off: \n",
    "a solution that utilizes few ingredients yet still achieves a relatively \n",
    "low cost. We could visualize this trade-off by plotting the minimum cost \n",
    "as a function of the number of ingredients in the feed. The eventual \n",
    "trade-off chosen is subjective, there is no clear answer, but we ask you\n",
    "to choose a “good” solution and motivate your choice in the report.\n"
   ],
   "metadata": {
    "collapsed": false
   },
   "id": "2e60d1dd9d7214a3"
  },
  {
   "cell_type": "code",
   "execution_count": 8,
   "outputs": [],
   "source": [
    "# 1.4\n",
    "# I add an array which holds the graph data (ingredients count and cost)\n",
    "graph_data=[]\n",
    "# Wrap the model from 1.3 with a cycle and add the cycle variable to number_of_ingredients_rule. \n",
    "# The cycle variable ranges from 5 to 13. \n",
    "# 5 is the minimal ingredient count from 1.2, while 13 yields the lowest price from 1.1.\n",
    "\n",
    "for ingredients_count in range(5,14):\n",
    "    model = ConcreteModel()\n",
    "    model.I = Set(initialize=ingredient_bounds.keys()) \n",
    "    model.N = Set(initialize=nutrient_bounds.keys())\n",
    "    \n",
    "    model.x = Var(model.I, within=NonNegativeReals)\n",
    "    model.y = Var(model.I, within=Binary)\n",
    "    \n",
    "    model.cost = Objective(expr=sum(model.x[i] * available_ingredients.loc[i, 'Price'] for i in model.I), sense=minimize)\n",
    "\n",
    "    def nutrient_bounds_rule(model, n):\n",
    "        return (nutrient_bounds[n][0], \n",
    "                sum(model.x[i] * available_ingredients.loc[i, n] for i in model.I),\n",
    "                nutrient_bounds[n][1])\n",
    "    \n",
    "    model.nutrient_constr = Constraint(model.N, rule=nutrient_bounds_rule)\n",
    "\n",
    "    def ingredient_bounds_rule(model, i):\n",
    "        return ingredient_bounds[i][0], model.x[i], ingredient_bounds[i][1]\n",
    "    \n",
    "    model.ingredient_constr = Constraint(model.I, rule=ingredient_bounds_rule)\n",
    "    \n",
    "    def combined_ingredients_rule(model, rule_idx):\n",
    "        upper_bound, ingredients_combination = combined_ingredient_rules[rule_idx]\n",
    "        return sum(model.x[i] for i in ingredients_combination) <= upper_bound\n",
    "    \n",
    "    model.combined_ingredients_constr = Constraint(range(len(combined_ingredient_rules)),\n",
    "                                                   rule=combined_ingredients_rule)\n",
    "    \n",
    "    def link_binary_to_quantity_rule(model, i):\n",
    "        return model.x[i] <= model.y[i]\n",
    "    \n",
    "    model.link_binary_constr = Constraint(model.I, rule=link_binary_to_quantity_rule)\n",
    "    \n",
    "    def total_mix_rule(model):\n",
    "        return sum(model.x[i] for i in model.I) == 1\n",
    "    \n",
    "    model.total_mix_constr = Constraint(rule=total_mix_rule)\n",
    "    \n",
    "    def number_of_ingredients_rule(model):\n",
    "        return sum(model.y[i] for i in model.I) == ingredients_count\n",
    "    \n",
    "    model.exact_ingredients_constr = Constraint(rule=number_of_ingredients_rule)\n",
    "    \n",
    "    solver = SolverFactory('glpk',executable=\"/opt/homebrew/bin/./glpsol\")\n",
    "    solver.solve(model)\n",
    "    graph_data.append((ingredients_count, model.cost()))"
   ],
   "metadata": {
    "collapsed": false,
    "ExecuteTime": {
     "end_time": "2023-10-29T22:43:36.494347Z",
     "start_time": "2023-10-29T22:43:36.315752Z"
    }
   },
   "id": "bf9b1cb33439e76f"
  },
  {
   "cell_type": "code",
   "execution_count": 9,
   "outputs": [
    {
     "data": {
      "text/plain": "<Figure size 640x480 with 1 Axes>",
      "image/png": "[encoded data removed]"
     },
     "metadata": {},
     "output_type": "display_data"
    },
    {
     "name": "stdout",
     "output_type": "stream",
     "text": [
      "Cost decrease between every count\n",
      "5-6 - -0.035425\n",
      "6-7 - -0.011759\n",
      "7-8 - -0.007194\n",
      "8-9 - -0.006728\n",
      "9-10 - -0.005606\n",
      "10-11 - -0.001934\n",
      "11-12 - -0.002486\n",
      "12-13 - -0.000926\n"
     ]
    }
   ],
   "source": [
    "x_vals, y_vals = zip(*graph_data)\n",
    "plt.plot(x_vals, y_vals, marker='o')\n",
    "plt.xlabel('Number of Ingredients')\n",
    "plt.ylabel('Cost')\n",
    "plt.title('Cost per number of ingredients used')\n",
    "plt.show()\n",
    "\n",
    "costs = [cost for _, cost in graph_data]\n",
    "deltas = [costs[i+1] - costs[i] for i in range(len(costs)-1)]\n",
    "print(\"Cost decrease between every count\")\n",
    "for i in range(len(deltas)):\n",
    "    print(f\"{graph_data[i][0]}-{graph_data[i+1][0]} - {deltas[i]:.6f}\")"
   ],
   "metadata": {
    "collapsed": false,
    "ExecuteTime": {
     "end_time": "2023-10-29T22:43:36.612048Z",
     "start_time": "2023-10-29T22:43:36.495932Z"
    }
   },
   "id": "14f099c65eaf6a1d"
  },
  {
   "cell_type": "markdown",
   "source": [
    " Based on the elbow method and after some quick calculations I suppose that using both 7 and 8 ingredients is optimal,\n",
    " 8 being my personal preference :)"
   ],
   "metadata": {
    "collapsed": false
   },
   "id": "e549b244ec553d02"
  }
 ],
 "metadata": {
  "kernelspec": {
   "display_name": "Python 3 (ipykernel)",
   "language": "python",
   "name": "python3"
  },
  "language_info": {
   "codemirror_mode": {
    "name": "ipython",
    "version": 3
   },
   "file_extension": ".py",
   "mimetype": "text/x-python",
   "name": "python",
   "nbconvert_exporter": "python",
   "pygments_lexer": "ipython3",
   "version": "3.11.6"
  }
 },
 "nbformat": 4,
 "nbformat_minor": 5
}
